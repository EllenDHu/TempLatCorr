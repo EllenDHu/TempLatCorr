{
 "cells": [
  {
   "cell_type": "markdown",
   "metadata": {},
   "source": [
    "# WeatherPy\n",
    "----\n",
    "\n",
    "#### Note\n",
    "* Instructions have been included for each segment. You do not have to follow them exactly, but they are included to help you think through the steps."
   ]
  },
  {
   "cell_type": "code",
   "execution_count": 1,
   "metadata": {
    "scrolled": true
   },
   "outputs": [],
   "source": [
    "# Dependencies and Setup\n",
    "import matplotlib.pyplot as plt\n",
    "import pandas as pd\n",
    "import numpy as np\n",
    "import requests\n",
    "import time\n",
    "import json\n",
    "\n",
    "# Import API key\n",
    "from api_keys import api_key\n",
    "\n",
    "# Incorporated citipy to determine city based on latitude and longitude\n",
    "from citipy import citipy\n",
    "\n",
    "# Output File (CSV)\n",
    "output_data_file = \"output_data/cities.csv\"\n",
    "\n",
    "# Range of latitudes and longitudes\n",
    "lat_range = (-90, 90)\n",
    "lng_range = (-180, 180)"
   ]
  },
  {
   "cell_type": "code",
   "execution_count": 2,
   "metadata": {},
   "outputs": [],
   "source": [
    "from IPython.core.interactiveshell import InteractiveShell\n",
    "InteractiveShell.ast_node_interactivity = \"all\""
   ]
  },
  {
   "cell_type": "markdown",
   "metadata": {},
   "source": [
    "## Generate Cities List"
   ]
  },
  {
   "cell_type": "code",
   "execution_count": 3,
   "metadata": {
    "scrolled": true
   },
   "outputs": [
    {
     "data": {
      "text/plain": [
       "617"
      ]
     },
     "execution_count": 3,
     "metadata": {},
     "output_type": "execute_result"
    }
   ],
   "source": [
    "# List for holding lat_lngs and cities\n",
    "lat_lngs = []\n",
    "cities = []\n",
    "\n",
    "# Create a set of random lat and lng combinations\n",
    "lats = np.random.uniform(low=-90.000, high=90.000, size=1500)\n",
    "lngs = np.random.uniform(low=-180.000, high=180.000, size=1500)\n",
    "lat_lngs = zip(lats, lngs)\n",
    "\n",
    "# Identify nearest city for each lat, lng combination\n",
    "for lat_lng in lat_lngs:\n",
    "    city = citipy.nearest_city(lat_lng[0], lat_lng[1]).city_name\n",
    "    \n",
    "    # If the city is unique, then add it to a our cities list\n",
    "    if city not in cities:\n",
    "        cities.append(city)\n",
    "\n",
    "# Print the city count to confirm sufficient count\n",
    "len(cities)"
   ]
  },
  {
   "cell_type": "markdown",
   "metadata": {},
   "source": [
    "### Perform API Calls\n",
    "* Perform a weather check on each city using a series of successive API calls.\n",
    "* Include a print log of each city as it'sbeing processed (with the city number and city name).\n"
   ]
  },
  {
   "cell_type": "code",
   "execution_count": 4,
   "metadata": {
    "scrolled": true
   },
   "outputs": [
    {
     "name": "stdout",
     "output_type": "stream",
     "text": [
      "Processing Record | kapaa\n",
      "Processing Record | rikitea\n",
      "Processing Record | ushuaia\n",
      "Processing Record | bastia\n",
      "Processing Record | albany\n",
      "City not found. Skipping...\n",
      "Processing Record | acajutla\n",
      "Processing Record | maniitsoq\n",
      "Processing Record | hasaki\n",
      "Processing Record | saskylakh\n",
      "Processing Record | barrow\n",
      "City not found. Skipping...\n",
      "Processing Record | ayan\n",
      "Processing Record | meadow lake\n",
      "Processing Record | port elizabeth\n",
      "Processing Record | hithadhoo\n",
      "Processing Record | pidigan\n",
      "Processing Record | punta arenas\n",
      "City not found. Skipping...\n",
      "Processing Record | vuktyl\n",
      "Processing Record | puerto ayora\n",
      "Processing Record | charagua\n",
      "Processing Record | mandan\n",
      "Processing Record | castro\n",
      "Processing Record | oranjemund\n",
      "Processing Record | la ronge\n",
      "Processing Record | airai\n",
      "Processing Record | upernavik\n",
      "Processing Record | bredasdorp\n",
      "Processing Record | yellowknife\n",
      "Processing Record | port alfred\n",
      "Processing Record | butaritari\n",
      "Processing Record | isla vista\n",
      "Processing Record | mataura\n",
      "Processing Record | springbok\n",
      "Processing Record | hobart\n",
      "Processing Record | kavieng\n",
      "Processing Record | bluff\n",
      "Processing Record | muisne\n",
      "Processing Record | shache\n",
      "Processing Record | touros\n",
      "Processing Record | madan\n",
      "Processing Record | lagoa\n",
      "Processing Record | nishihara\n",
      "Processing Record | keflavik\n",
      "Processing Record | tuktoyaktuk\n",
      "Processing Record | khatanga\n",
      "Processing Record | pangnirtung\n",
      "Processing Record | vice\n",
      "Processing Record | cidreira\n",
      "Processing Record | kuching\n",
      "Processing Record | chokurdakh\n",
      "Processing Record | jamestown\n",
      "Processing Record | bambous virieux\n",
      "Processing Record | mahebourg\n",
      "Processing Record | luderitz\n",
      "Processing Record | carahue\n",
      "Processing Record | ouadda\n",
      "City not found. Skipping...\n",
      "Processing Record | esperance\n",
      "Processing Record | isangel\n",
      "Processing Record | coahuayana\n",
      "Processing Record | port blair\n",
      "Processing Record | mitsamiouli\n",
      "Processing Record | torbay\n",
      "Processing Record | vaini\n",
      "Processing Record | linxia\n",
      "Processing Record | makakilo city\n",
      "Processing Record | cape town\n",
      "Processing Record | narsaq\n",
      "Processing Record | uaua\n",
      "Processing Record | walvis bay\n",
      "Processing Record | norman wells\n",
      "Processing Record | san patricio\n",
      "Processing Record | pochutla\n",
      "Processing Record | hilo\n",
      "Processing Record | busselton\n",
      "Processing Record | saint george\n",
      "Processing Record | evensk\n",
      "Processing Record | lang son\n",
      "Processing Record | plettenberg bay\n",
      "Processing Record | opatija\n",
      "City not found. Skipping...\n",
      "Processing Record | arraial do cabo\n",
      "Processing Record | pacific grove\n",
      "Processing Record | akureyri\n",
      "Processing Record | te anau\n",
      "Processing Record | whitehorse\n",
      "Processing Record | maceio\n",
      "Processing Record | hermanus\n",
      "Processing Record | shieli\n",
      "Processing Record | lebu\n",
      "City not found. Skipping...\n",
      "Processing Record | cabo san lucas\n",
      "City not found. Skipping...\n",
      "Processing Record | belyy yar\n",
      "Processing Record | lasa\n",
      "Processing Record | haines junction\n",
      "Processing Record | atuona\n",
      "Processing Record | avarua\n",
      "Processing Record | ribeira grande\n",
      "Processing Record | raudeberg\n",
      "Processing Record | kiruna\n",
      "Processing Record | port lincoln\n",
      "Processing Record | faanui\n",
      "Processing Record | roald\n",
      "Processing Record | east london\n",
      "City not found. Skipping...\n",
      "City not found. Skipping...\n",
      "Processing Record | new norfolk\n",
      "Processing Record | iba\n",
      "Processing Record | minot\n",
      "Processing Record | ancud\n",
      "Processing Record | bethel\n",
      "Processing Record | kutum\n",
      "Processing Record | gushikawa\n",
      "Processing Record | flin flon\n",
      "Processing Record | bathsheba\n",
      "City not found. Skipping...\n",
      "Processing Record | kodiak\n",
      "City not found. Skipping...\n",
      "Processing Record | agadir\n",
      "Processing Record | elizabeth city\n",
      "Processing Record | avera\n",
      "Processing Record | fort nelson\n",
      "Processing Record | fortuna\n",
      "Processing Record | komsomolskiy\n",
      "Processing Record | severo-kurilsk\n",
      "Processing Record | coihaique\n",
      "Processing Record | liverpool\n",
      "Processing Record | bukachacha\n",
      "Processing Record | puerto padre\n",
      "Processing Record | abu dhabi\n",
      "Processing Record | bandarbeyla\n",
      "Processing Record | vestmannaeyjar\n",
      "City not found. Skipping...\n",
      "Processing Record | moro\n",
      "Processing Record | bafoulabe\n",
      "Processing Record | wewak\n",
      "Processing Record | kalmunai\n",
      "Processing Record | alta floresta\n",
      "Processing Record | tateyama\n",
      "Processing Record | kaiyuan\n",
      "Processing Record | dunda\n",
      "Processing Record | rembang\n",
      "Processing Record | beringovskiy\n",
      "Processing Record | noumea\n",
      "City not found. Skipping...\n",
      "Processing Record | brejinho\n",
      "Processing Record | nova olinda do norte\n",
      "Processing Record | beloha\n",
      "Processing Record | naze\n",
      "Processing Record | ayagoz\n",
      "Processing Record | husavik\n",
      "Processing Record | san policarpo\n",
      "Processing Record | namtsy\n",
      "Processing Record | hami\n",
      "City not found. Skipping...\n",
      "Processing Record | dikson\n",
      "Processing Record | moose factory\n",
      "Processing Record | presidencia roque saenz pena\n",
      "Processing Record | ilulissat\n",
      "Processing Record | dukat\n",
      "Processing Record | padang\n",
      "City not found. Skipping...\n",
      "Processing Record | salalah\n",
      "Processing Record | kathmandu\n",
      "City not found. Skipping...\n",
      "City not found. Skipping...\n",
      "City not found. Skipping...\n",
      "Processing Record | lima\n",
      "Processing Record | muroto\n",
      "Processing Record | eydhafushi\n",
      "Processing Record | hambantota\n",
      "Processing Record | hualmay\n",
      "Processing Record | zhigansk\n",
      "Processing Record | russkaya polyana\n",
      "Processing Record | smithers\n",
      "Processing Record | tura\n",
      "Processing Record | manoel urbano\n",
      "Processing Record | fairbanks\n",
      "Processing Record | markova\n",
      "Processing Record | petropavlovsk-kamchatskiy\n",
      "Processing Record | inta\n",
      "City not found. Skipping...\n",
      "Processing Record | kavaratti\n",
      "Processing Record | axim\n",
      "Processing Record | quatre cocos\n",
      "Processing Record | suntar\n",
      "Processing Record | iqaluit\n",
      "Processing Record | zheleznodorozhnyy\n",
      "Processing Record | karpathos\n",
      "Processing Record | chuy\n",
      "Processing Record | hofn\n",
      "Processing Record | camacha\n",
      "Processing Record | gombe\n",
      "Processing Record | canutama\n",
      "Processing Record | weligama\n",
      "Processing Record | general roca\n",
      "City not found. Skipping...\n",
      "Processing Record | kozhva\n",
      "Processing Record | thompson\n",
      "Processing Record | dalianwan\n",
      "Processing Record | elat\n",
      "Processing Record | nome\n",
      "Processing Record | majene\n",
      "Processing Record | inhambane\n",
      "Processing Record | itarema\n",
      "City not found. Skipping...\n",
      "Processing Record | bjorkelangen\n",
      "Processing Record | barguzin\n",
      "City not found. Skipping...\n",
      "Processing Record | aksarka\n",
      "City not found. Skipping...\n",
      "Processing Record | turan\n",
      "Processing Record | dingle\n",
      "Processing Record | tuatapere\n",
      "Processing Record | huejuquilla el alto\n",
      "Processing Record | nizhniy kuranakh\n",
      "Processing Record | rocha\n",
      "Processing Record | provideniya\n",
      "Processing Record | katsuura\n",
      "Processing Record | alofi\n",
      "City not found. Skipping...\n",
      "Processing Record | port macquarie\n",
      "City not found. Skipping...\n",
      "Processing Record | kayasula\n",
      "Processing Record | surovikino\n",
      "Processing Record | qaanaaq\n",
      "City not found. Skipping...\n",
      "City not found. Skipping...\n",
      "Processing Record | rochegda\n",
      "Processing Record | springdale\n",
      "Processing Record | nikolskoye\n",
      "Processing Record | sao filipe\n",
      "City not found. Skipping...\n",
      "Processing Record | xocali\n",
      "Processing Record | saint-philippe\n",
      "Processing Record | mutoko\n",
      "Processing Record | belaya gora\n",
      "Processing Record | kabelvag\n",
      "Processing Record | jian\n",
      "Processing Record | tasiilaq\n",
      "Processing Record | san miguel\n",
      "Processing Record | lipari\n",
      "Processing Record | pangoa\n",
      "City not found. Skipping...\n",
      "Processing Record | monte azul\n",
      "Processing Record | tessalit\n",
      "Processing Record | belmonte\n",
      "Processing Record | portree\n",
      "Processing Record | faya\n",
      "Processing Record | rawson\n",
      "Processing Record | balabac\n",
      "Processing Record | harper\n",
      "Processing Record | ponta delgada\n",
      "Processing Record | copperas cove\n",
      "Processing Record | san angelo\n",
      "City not found. Skipping...\n",
      "Processing Record | mar del plata\n",
      "Processing Record | luangwa\n",
      "Processing Record | acapulco\n",
      "Processing Record | jiangyou\n",
      "City not found. Skipping...\n",
      "City not found. Skipping...\n",
      "Processing Record | kadyy\n",
      "Processing Record | aguimes\n",
      "Processing Record | leningradskiy\n",
      "Processing Record | gat\n",
      "Processing Record | wajir\n",
      "Processing Record | guider\n",
      "Processing Record | mount isa\n",
      "Processing Record | ilebo\n",
      "Processing Record | kununurra\n",
      "Processing Record | schwalmtal\n",
      "Processing Record | broome\n",
      "Processing Record | dusti\n",
      "Processing Record | calama\n",
      "Processing Record | tongren\n",
      "Processing Record | pangai\n",
      "Processing Record | nabire\n"
     ]
    },
    {
     "name": "stdout",
     "output_type": "stream",
     "text": [
      "Processing Record | berlevag\n",
      "City not found. Skipping...\n",
      "Processing Record | batemans bay\n",
      "Processing Record | geraldton\n",
      "City not found. Skipping...\n",
      "Processing Record | nouadhibou\n",
      "Processing Record | ghanzi\n",
      "Processing Record | alberton\n",
      "Processing Record | rabat\n",
      "Processing Record | beterou\n",
      "Processing Record | anadyr\n",
      "Processing Record | vilhena\n",
      "Processing Record | vao\n",
      "Processing Record | mehamn\n",
      "Processing Record | cap malheureux\n",
      "Processing Record | sitka\n",
      "Processing Record | carnarvon\n",
      "City not found. Skipping...\n",
      "City not found. Skipping...\n",
      "Processing Record | srednekolymsk\n",
      "Processing Record | campos altos\n",
      "Processing Record | laurel\n",
      "Processing Record | dalby\n",
      "Processing Record | namatanai\n",
      "Processing Record | lucea\n",
      "Processing Record | klaksvik\n",
      "Processing Record | victoria\n",
      "Processing Record | portland\n",
      "Processing Record | pevek\n",
      "City not found. Skipping...\n",
      "Processing Record | batagay-alyta\n",
      "Processing Record | verkhoyansk\n",
      "Processing Record | don sak\n",
      "Processing Record | samarai\n",
      "Processing Record | tefe\n",
      "Processing Record | kirakira\n",
      "Processing Record | taungdwingyi\n",
      "Processing Record | aklavik\n",
      "Processing Record | constitucion\n",
      "Processing Record | talnakh\n",
      "Processing Record | san felipe\n",
      "Processing Record | boguchany\n",
      "Processing Record | lompoc\n",
      "Processing Record | yumen\n",
      "City not found. Skipping...\n",
      "City not found. Skipping...\n",
      "City not found. Skipping...\n",
      "Processing Record | bikapur\n",
      "Processing Record | mocuba\n",
      "Processing Record | clarence town\n",
      "Processing Record | atherton\n",
      "City not found. Skipping...\n",
      "Processing Record | matadi\n",
      "Processing Record | nizhniy bestyakh\n",
      "Processing Record | new iberia\n",
      "Processing Record | longyearbyen\n",
      "Processing Record | tripoli\n",
      "Processing Record | saint anthony\n",
      "Processing Record | san quintin\n",
      "Processing Record | puerto baquerizo moreno\n",
      "Processing Record | mareeba\n",
      "Processing Record | troitsko-pechorsk\n",
      "Processing Record | bonavista\n",
      "Processing Record | kargasok\n",
      "Processing Record | mount gambier\n",
      "Processing Record | waingapu\n",
      "Processing Record | inuvik\n",
      "Processing Record | la ligua\n",
      "City not found. Skipping...\n",
      "Processing Record | tuy hoa\n",
      "Processing Record | fukuma\n",
      "Processing Record | latacunga\n",
      "Processing Record | erenhot\n",
      "City not found. Skipping...\n",
      "Processing Record | mendi\n",
      "Processing Record | waipawa\n",
      "Processing Record | ponta do sol\n",
      "Processing Record | guerrero negro\n",
      "Processing Record | bosaso\n",
      "Processing Record | saldanha\n",
      "City not found. Skipping...\n",
      "Processing Record | taoudenni\n",
      "City not found. Skipping...\n",
      "Processing Record | yar-sale\n",
      "Processing Record | orumiyeh\n",
      "Processing Record | lavrentiya\n",
      "Processing Record | san cristobal\n",
      "City not found. Skipping...\n",
      "Processing Record | los llanos de aridane\n",
      "Processing Record | krivodol\n",
      "Processing Record | kallithea\n",
      "Processing Record | winslow\n",
      "Processing Record | grindavik\n",
      "Processing Record | fare\n",
      "Processing Record | tutoia\n",
      "Processing Record | osorio\n",
      "Processing Record | ferrol\n",
      "Processing Record | lengshuijiang\n",
      "Processing Record | mamallapuram\n",
      "Processing Record | matay\n",
      "Processing Record | les cayes\n",
      "Processing Record | sungaipenuh\n",
      "City not found. Skipping...\n",
      "Processing Record | dicabisagan\n",
      "Processing Record | nenjiang\n",
      "Processing Record | daru\n",
      "Processing Record | leshukonskoye\n",
      "Processing Record | sokoni\n",
      "Processing Record | lata\n",
      "Processing Record | jhusi\n",
      "Processing Record | ventimiglia\n",
      "Processing Record | santa marta\n",
      "Processing Record | dunedin\n",
      "Processing Record | sorbhog\n",
      "Processing Record | chapais\n",
      "Processing Record | toropets\n",
      "Processing Record | talara\n",
      "Processing Record | omboue\n",
      "City not found. Skipping...\n",
      "Processing Record | casper\n",
      "Processing Record | bucerias\n",
      "Processing Record | ha tinh\n",
      "Processing Record | yerbogachen\n",
      "Processing Record | tarakan\n",
      "Processing Record | necochea\n",
      "Processing Record | west bay\n",
      "Processing Record | san pedro\n",
      "Processing Record | clyde river\n",
      "Processing Record | tromso\n",
      "Processing Record | takaka\n",
      "City not found. Skipping...\n",
      "Processing Record | la paz\n",
      "Processing Record | kyenjojo\n",
      "Processing Record | jacareacanga\n",
      "City not found. Skipping...\n",
      "Processing Record | mackay\n",
      "City not found. Skipping...\n",
      "Processing Record | udachnyy\n",
      "Processing Record | mariental\n",
      "Processing Record | chongwe\n",
      "Processing Record | kruisfontein\n",
      "Processing Record | oster\n",
      "Processing Record | malindi\n",
      "Processing Record | derzhavinsk\n",
      "Processing Record | montepuez\n",
      "Processing Record | georgetown\n",
      "Processing Record | nanortalik\n",
      "Processing Record | daniel flores\n",
      "Processing Record | bud\n",
      "Processing Record | fort smith\n",
      "Processing Record | kimbe\n",
      "Processing Record | nagua\n",
      "Processing Record | oriximina\n",
      "Processing Record | muros\n",
      "Processing Record | basco\n",
      "Processing Record | san jose de guanipa\n",
      "City not found. Skipping...\n",
      "City not found. Skipping...\n",
      "Processing Record | canavieiras\n",
      "Processing Record | stokmarknes\n",
      "Processing Record | souillac\n",
      "Processing Record | sosnogorsk\n",
      "Processing Record | orkney\n",
      "Processing Record | aswan\n",
      "Processing Record | agirish\n",
      "Processing Record | kampong cham\n",
      "Processing Record | miles city\n",
      "Processing Record | lincoln\n",
      "Processing Record | caravelas\n",
      "Processing Record | auki\n",
      "Processing Record | berezovyy\n",
      "Processing Record | bitung\n",
      "Processing Record | tahe\n",
      "Processing Record | namibe\n",
      "Processing Record | fort frances\n",
      "Processing Record | hohhot\n",
      "Processing Record | altamira\n",
      "Processing Record | palmer\n",
      "City not found. Skipping...\n",
      "Processing Record | ndola\n",
      "Processing Record | kaitangata\n",
      "Processing Record | alice springs\n",
      "Processing Record | innisfail\n",
      "Processing Record | la seyne-sur-mer\n",
      "Processing Record | tvoroyri\n",
      "Processing Record | maragogi\n",
      "Processing Record | coari\n",
      "Processing Record | corn island\n",
      "Processing Record | kahului\n",
      "Processing Record | awbari\n",
      "City not found. Skipping...\n",
      "Processing Record | carbonia\n",
      "Processing Record | lorengau\n",
      "Processing Record | college\n",
      "Processing Record | neryungri\n",
      "Processing Record | tiksi\n",
      "Processing Record | nola\n",
      "Processing Record | williamsburg\n",
      "City not found. Skipping...\n",
      "Processing Record | deputatskiy\n",
      "Processing Record | coquimbo\n",
      "Processing Record | hinganghat\n",
      "Processing Record | sambava\n",
      "Processing Record | labuhan\n",
      "Processing Record | wukari\n",
      "Processing Record | ketchikan\n",
      "City not found. Skipping...\n",
      "Processing Record | kazanskaya\n",
      "Processing Record | kaniama\n",
      "Processing Record | havre-saint-pierre\n",
      "Processing Record | cherskiy\n",
      "Processing Record | kurilsk\n",
      "Processing Record | podhum\n",
      "Processing Record | ati\n",
      "City not found. Skipping...\n",
      "Processing Record | marawi\n",
      "Processing Record | tambacounda\n",
      "Processing Record | afua\n",
      "Processing Record | rocafuerte\n",
      "Processing Record | jatai\n",
      "Processing Record | sept-iles\n",
      "Processing Record | vardo\n",
      "City not found. Skipping...\n",
      "Processing Record | copala\n",
      "Processing Record | vila franca do campo\n",
      "Processing Record | port hardy\n",
      "Processing Record | soyo\n",
      "Processing Record | chatellerault\n",
      "City not found. Skipping...\n",
      "Processing Record | sivas\n",
      "Processing Record | ostrovnoy\n",
      "Processing Record | tiznit\n",
      "Processing Record | yeppoon\n",
      "Processing Record | gimli\n",
      "Processing Record | baie-comeau\n",
      "Processing Record | umm kaddadah\n",
      "Processing Record | kortkeros\n",
      "Processing Record | kitimat\n",
      "Processing Record | caucaia\n",
      "Processing Record | adrar\n",
      "Processing Record | uglegorskiy\n",
      "City not found. Skipping...\n",
      "Processing Record | takoradi\n",
      "Processing Record | qaqortoq\n",
      "City not found. Skipping...\n",
      "Processing Record | hamilton\n",
      "Processing Record | storslett\n",
      "Processing Record | rovaniemi\n",
      "City not found. Skipping...\n",
      "Processing Record | takhtamygda\n",
      "Processing Record | lunenburg\n",
      "Processing Record | mayya\n",
      "City not found. Skipping...\n",
      "Processing Record | gandorhun\n",
      "Processing Record | hoquiam\n",
      "Processing Record | varkaus\n",
      "Processing Record | at-bashi\n",
      "Processing Record | taunggyi\n",
      "Processing Record | ulladulla\n",
      "Processing Record | havoysund\n",
      "Processing Record | kaduqli\n",
      "Processing Record | tenkodogo\n",
      "Processing Record | salinopolis\n",
      "Processing Record | ipswich\n",
      "Processing Record | yulara\n",
      "Processing Record | nybro\n",
      "City not found. Skipping...\n",
      "City not found. Skipping...\n",
      "Processing Record | pisco\n",
      "Processing Record | thinadhoo\n",
      "Processing Record | rayong\n",
      "Processing Record | ugoofaaru\n",
      "Processing Record | pemberton\n",
      "Processing Record | sao jose da coroa grande\n",
      "Processing Record | kichera\n",
      "Processing Record | darhan\n",
      "Processing Record | damaturu\n",
      "Processing Record | ust-nera\n",
      "Processing Record | lyantonde\n",
      "Processing Record | oranjestad\n",
      "Processing Record | araouane\n",
      "Processing Record | conde\n"
     ]
    },
    {
     "name": "stdout",
     "output_type": "stream",
     "text": [
      "Processing Record | athabasca\n",
      "Processing Record | brae\n",
      "Processing Record | alyangula\n",
      "Processing Record | porto novo\n",
      "Processing Record | vvedenskoye\n",
      "Processing Record | corrales\n",
      "Processing Record | pyay\n",
      "Processing Record | barcelos\n",
      "City not found. Skipping...\n",
      "Processing Record | tadine\n",
      "Processing Record | novouzensk\n",
      "Processing Record | vaitape\n",
      "Processing Record | keelung\n",
      "Processing Record | pangody\n",
      "Processing Record | poum\n",
      "Processing Record | osa\n",
      "Processing Record | tandil\n",
      "Processing Record | sawai madhopur\n",
      "Processing Record | saint-joseph\n",
      "Processing Record | sabang\n",
      "Processing Record | gamba\n",
      "Processing Record | aquiraz\n",
      "City not found. Skipping...\n",
      "Processing Record | ahipara\n",
      "Processing Record | honiara\n",
      "Processing Record | mayo\n",
      "Processing Record | las vegas\n",
      "City not found. Skipping...\n",
      "Processing Record | petukhovo\n",
      "Processing Record | ternate\n",
      "Processing Record | taltal\n",
      "Processing Record | kloulklubed\n",
      "Processing Record | aksu\n",
      "Processing Record | goderich\n",
      "Processing Record | itoman\n",
      "Processing Record | polyanka\n",
      "Processing Record | ban nahin\n",
      "Processing Record | inverness\n",
      "Processing Record | acucena\n",
      "Processing Record | ornskoldsvik\n",
      "Processing Record | aranos\n",
      "Processing Record | teguldet\n",
      "Processing Record | loa janan\n",
      "Processing Record | yarmouth\n",
      "Processing Record | zdvinsk\n",
      "Processing Record | champerico\n",
      "Processing Record | wadi musa\n",
      "Processing Record | vincennes\n",
      "City not found. Skipping...\n",
      "Processing Record | puerto escondido\n",
      "Processing Record | khani\n",
      "Processing Record | katangli\n",
      "Processing Record | codrington\n",
      "City not found. Skipping...\n"
     ]
    }
   ],
   "source": [
    "# Get API url \n",
    "url = \"http://api.openweathermap.org/data/2.5/weather?\"\n",
    "units = \"metric\"\n",
    "\n",
    "# Create empty lists for data frame columns\n",
    "Cloudiness = []\n",
    "Country = []\n",
    "Date = []\n",
    "Humidity = []\n",
    "Lat = []\n",
    "Lng = []\n",
    "Max_Temp = []\n",
    "Wind_Speed = []\n",
    "newcity = []\n",
    "\n",
    "# Fetch data\n",
    "# Make sense to use average temperature instead of max temperature, but API_key is about to out of limits so did not re-run\n",
    "time.sleep(1)\n",
    "for city in cities:\n",
    "    try:\n",
    "        query_url = f\"{url}appid={api_key}&units={units}&q=\"\n",
    "        city_json = requests.get(query_url+city).json()\n",
    "        \n",
    "        Cloudiness.append(city_json[\"clouds\"][\"all\"])\n",
    "        Country.append(city_json[\"sys\"][\"country\"])\n",
    "        Date.append(city_json[\"dt\"])\n",
    "        Humidity.append(city_json[\"main\"][\"humidity\"])\n",
    "        Lat.append(city_json[\"coord\"][\"lat\"])\n",
    "        Lng.append(city_json[\"coord\"][\"lon\"])\n",
    "        Max_Temp.append(city_json[\"main\"][\"temp_max\"]) #here use temp instead of temp_max\n",
    "        Wind_Speed.append(city_json[\"wind\"][\"speed\"])\n",
    "        newcity.append(city_json[\"name\"])\n",
    "        print(f\"Processing Record | {city}\")\n",
    "    except KeyError:\n",
    "        print(\"City not found. Skipping...\")"
   ]
  },
  {
   "cell_type": "code",
   "execution_count": 5,
   "metadata": {},
   "outputs": [],
   "source": [
    "# Create data frame using key variables fetched above\n",
    "city_df = pd.DataFrame(\n",
    "{'City': newcity,\n",
    "'Cloudiness':Cloudiness,\n",
    " 'Country':Country,\n",
    " 'Date':Date,\n",
    " 'Humidity':Humidity,\n",
    " 'Lat':Lat,\n",
    " 'Lng':Lng,\n",
    " 'Max Temp':Max_Temp,\n",
    " 'Wind Speed':Wind_Speed})"
   ]
  },
  {
   "cell_type": "code",
   "execution_count": 6,
   "metadata": {},
   "outputs": [],
   "source": [
    "# Drop any error data just in case\n",
    "city_df = city_df.dropna(how=\"any\")"
   ]
  },
  {
   "cell_type": "markdown",
   "metadata": {},
   "source": [
    "### Convert Raw Data to DataFrame\n",
    "* Export the city data into a .csv.\n",
    "* Display the DataFrame"
   ]
  },
  {
   "cell_type": "code",
   "execution_count": 7,
   "metadata": {},
   "outputs": [],
   "source": [
    "# Export data frame to csv file\n",
    "city_df.to_csv(\"city.csv\", index=False, header=True)"
   ]
  },
  {
   "cell_type": "markdown",
   "metadata": {},
   "source": [
    "### Plotting the Data\n",
    "* Use proper labeling of the plots using plot titles (including date of analysis) and axes labels.\n",
    "* Save the plotted figures as .pngs."
   ]
  },
  {
   "cell_type": "markdown",
   "metadata": {},
   "source": [
    "#### Latitude vs. Temperature Plot"
   ]
  },
  {
   "cell_type": "code",
   "execution_count": 8,
   "metadata": {},
   "outputs": [
    {
     "data": {
      "text/plain": [
       "<matplotlib.collections.PathCollection at 0xb00e978>"
      ]
     },
     "execution_count": 8,
     "metadata": {},
     "output_type": "execute_result"
    },
    {
     "data": {
      "text/plain": [
       "Text(0.5,1,'City Latitude vs. Max Temperature (08/22/18)')"
      ]
     },
     "execution_count": 8,
     "metadata": {},
     "output_type": "execute_result"
    },
    {
     "data": {
      "text/plain": [
       "Text(0.5,0,'Latitude')"
      ]
     },
     "execution_count": 8,
     "metadata": {},
     "output_type": "execute_result"
    },
    {
     "data": {
      "text/plain": [
       "Text(0,0.5,'Max Temperature (F)')"
      ]
     },
     "execution_count": 8,
     "metadata": {},
     "output_type": "execute_result"
    },
    {
     "data": {
      "text/plain": [
       "(-59.81, 83.22)"
      ]
     },
     "execution_count": 8,
     "metadata": {},
     "output_type": "execute_result"
    },
    {
     "data": {
      "text/plain": [
       "(-7.029999999999999, 45.0)"
      ]
     },
     "execution_count": 8,
     "metadata": {},
     "output_type": "execute_result"
    },
    {
     "data": {
      "image/png": "[encoded data removed]",
      "text/plain": [
       "<Figure size 432x288 with 1 Axes>"
      ]
     },
     "metadata": {},
     "output_type": "display_data"
    }
   ],
   "source": [
    "# Plotting using scatter plot and formatting plot for correlation question 1\n",
    "# Negative correlation shows betwen temperature and absolute value of latitude\n",
    "plt.scatter(city_df[\"Lat\"], city_df[\"Max Temp\"], edgecolors=\"black\", facecolor=\"blue\")\n",
    "plt.title(\"City Latitude vs. Max Temperature (08/22/18)\", fontsize=16)\n",
    "plt.xlabel(\"Latitude\", fontsize=16)\n",
    "plt.ylabel(\"Max Temperature (F)\", fontsize=16)\n",
    "plt.xlim((min(city_df[\"Lat\"]))-5, (max(city_df[\"Lat\"]))+5)\n",
    "plt.ylim(min(city_df[\"Max Temp\"])-5, max(city_df[\"Max Temp\"])+5)\n",
    "\n",
    "plt.grid()\n",
    "plt.show()"
   ]
  },
  {
   "cell_type": "code",
   "execution_count": null,
   "metadata": {},
   "outputs": [],
   "source": []
  },
  {
   "cell_type": "markdown",
   "metadata": {},
   "source": [
    "#### Latitude vs. Humidity Plot"
   ]
  },
  {
   "cell_type": "code",
   "execution_count": 10,
   "metadata": {},
   "outputs": [
    {
     "data": {
      "text/plain": [
       "<matplotlib.collections.PathCollection at 0x4f581d0>"
      ]
     },
     "execution_count": 10,
     "metadata": {},
     "output_type": "execute_result"
    },
    {
     "data": {
      "text/plain": [
       "Text(0.5,1,'City Latitude vs. Humidity (08/22/18)')"
      ]
     },
     "execution_count": 10,
     "metadata": {},
     "output_type": "execute_result"
    },
    {
     "data": {
      "text/plain": [
       "Text(0.5,0,'Latitude')"
      ]
     },
     "execution_count": 10,
     "metadata": {},
     "output_type": "execute_result"
    },
    {
     "data": {
      "text/plain": [
       "Text(0,0.5,'Humidity (%)')"
      ]
     },
     "execution_count": 10,
     "metadata": {},
     "output_type": "execute_result"
    },
    {
     "data": {
      "text/plain": [
       "(-59.81, 83.22)"
      ]
     },
     "execution_count": 10,
     "metadata": {},
     "output_type": "execute_result"
    },
    {
     "data": {
      "image/png": "[encoded data removed]",
      "text/plain": [
       "<Figure size 432x288 with 1 Axes>"
      ]
     },
     "metadata": {},
     "output_type": "display_data"
    }
   ],
   "source": [
    "# Plotting using scatter plot and formatting plot for correlation question 2\n",
    "# There is one outlier but correlation result still holds \n",
    "# Latitude near 0 has humidity more concentrated above 50%, but locations at other latitudes have humidity spreading out)\n",
    "plt.scatter(city_df[\"Lat\"], city_df[\"Humidity\"], edgecolors=\"black\", facecolor=\"blue\")\n",
    "plt.title(\"City Latitude vs. Humidity (08/22/18)\", fontsize=16)\n",
    "plt.xlabel(\"Latitude\", fontsize=16)\n",
    "plt.ylabel(\"Humidity (%)\", fontsize=16)\n",
    "plt.xlim((min(city_df[\"Lat\"]))-5, (max(city_df[\"Lat\"]))+5)\n",
    "plt.ylim(min(city_df[\"Humidity\"])-5, max(city_df[\"Humidity\"])+5)\n",
    "\n",
    "plt.grid()\n",
    "plt.show()"
   ]
  },
  {
   "cell_type": "markdown",
   "metadata": {},
   "source": [
    "#### Latitude vs. Cloudiness Plot"
   ]
  },
  {
   "cell_type": "code",
   "execution_count": 11,
   "metadata": {},
   "outputs": [
    {
     "data": {
      "text/plain": [
       "<matplotlib.collections.PathCollection at 0x4fbe198>"
      ]
     },
     "execution_count": 11,
     "metadata": {},
     "output_type": "execute_result"
    },
    {
     "data": {
      "text/plain": [
       "Text(0.5,1,'City Latitude vs. Cloudiness (08/22/18)')"
      ]
     },
     "execution_count": 11,
     "metadata": {},
     "output_type": "execute_result"
    },
    {
     "data": {
      "text/plain": [
       "Text(0.5,0,'Latitude')"
      ]
     },
     "execution_count": 11,
     "metadata": {},
     "output_type": "execute_result"
    },
    {
     "data": {
      "text/plain": [
       "Text(0,0.5,'Cloudiness (%)')"
      ]
     },
     "execution_count": 11,
     "metadata": {},
     "output_type": "execute_result"
    },
    {
     "data": {
      "text/plain": [
       "(-59.81, 83.22)"
      ]
     },
     "execution_count": 11,
     "metadata": {},
     "output_type": "execute_result"
    },
    {
     "data": {
      "text/plain": [
       "(-5, 105)"
      ]
     },
     "execution_count": 11,
     "metadata": {},
     "output_type": "execute_result"
    },
    {
     "data": {
      "image/png": "[encoded data removed]",
      "text/plain": [
       "<Figure size 432x288 with 1 Axes>"
      ]
     },
     "metadata": {},
     "output_type": "display_data"
    }
   ],
   "source": [
    "# Plotting using scatter plot and formatting plot for correlation question 3\n",
    "# No significant correlation between latitude and cloudiness, but cloudiness level 0%, 20%, 40%, 80% and 100% are more frequent\n",
    "plt.scatter(city_df[\"Lat\"], city_df[\"Cloudiness\"], edgecolors=\"black\", facecolor=\"blue\")\n",
    "plt.title(\"City Latitude vs. Cloudiness (08/22/18)\", fontsize=16)\n",
    "plt.xlabel(\"Latitude\", fontsize=16)\n",
    "plt.ylabel(\"Cloudiness (%)\", fontsize=16)\n",
    "plt.xlim((min(city_df[\"Lat\"]))-5, (max(city_df[\"Lat\"]))+5)\n",
    "plt.ylim(min(city_df[\"Cloudiness\"])-5, max(city_df[\"Cloudiness\"])+5)\n",
    "\n",
    "plt.grid()\n",
    "plt.show()"
   ]
  },
  {
   "cell_type": "markdown",
   "metadata": {},
   "source": [
    "#### Latitude vs. Wind Speed Plot"
   ]
  },
  {
   "cell_type": "code",
   "execution_count": 13,
   "metadata": {
    "scrolled": false
   },
   "outputs": [
    {
     "data": {
      "text/plain": [
       "<matplotlib.collections.PathCollection at 0x5076898>"
      ]
     },
     "execution_count": 13,
     "metadata": {},
     "output_type": "execute_result"
    },
    {
     "data": {
      "text/plain": [
       "Text(0.5,1,'City Latitude vs. Wind Speed (08/22/18)')"
      ]
     },
     "execution_count": 13,
     "metadata": {},
     "output_type": "execute_result"
    },
    {
     "data": {
      "text/plain": [
       "Text(0.5,0,'Latitude')"
      ]
     },
     "execution_count": 13,
     "metadata": {},
     "output_type": "execute_result"
    },
    {
     "data": {
      "text/plain": [
       "Text(0,0.5,'Wind Speed (mph)')"
      ]
     },
     "execution_count": 13,
     "metadata": {},
     "output_type": "execute_result"
    },
    {
     "data": {
      "text/plain": [
       "(-59.81, 83.22)"
      ]
     },
     "execution_count": 13,
     "metadata": {},
     "output_type": "execute_result"
    },
    {
     "data": {
      "text/plain": [
       "(-0.42, 13.9)"
      ]
     },
     "execution_count": 13,
     "metadata": {},
     "output_type": "execute_result"
    },
    {
     "data": {
      "image/png": "[encoded data removed]",
      "text/plain": [
       "<Figure size 432x288 with 1 Axes>"
      ]
     },
     "metadata": {},
     "output_type": "display_data"
    }
   ],
   "source": [
    "# Plotting using scatter plot and formatting plot for correlation question 4\n",
    "# No significant correlation between latitude and wind speed\n",
    "plt.scatter(city_df[\"Lat\"], city_df[\"Wind Speed\"], edgecolors=\"black\", facecolor=\"blue\")\n",
    "plt.title(\"City Latitude vs. Wind Speed (08/22/18)\", fontsize=16)\n",
    "plt.xlabel(\"Latitude\", fontsize=16)\n",
    "plt.ylabel(\"Wind Speed (mph)\", fontsize=16)\n",
    "plt.xlim((min(city_df[\"Lat\"]))-5, (max(city_df[\"Lat\"]))+5)\n",
    "plt.ylim(min(city_df[\"Wind Speed\"])-.5, max(city_df[\"Wind Speed\"])+.5)\n",
    "\n",
    "plt.grid()\n",
    "plt.show()"
   ]
  },
  {
   "cell_type": "code",
   "execution_count": null,
   "metadata": {},
   "outputs": [],
   "source": []
  }
 ],
 "metadata": {
  "anaconda-cloud": {},
  "kernel_info": {
   "name": "python3"
  },
  "kernelspec": {
   "display_name": "Python 3",
   "language": "python",
   "name": "python3"
  },
  "language_info": {
   "codemirror_mode": {
    "name": "ipython",
    "version": 3
   },
   "file_extension": ".py",
   "mimetype": "text/x-python",
   "name": "python",
   "nbconvert_exporter": "python",
   "pygments_lexer": "ipython3",
   "version": "3.6.5"
  },
  "nteract": {
   "version": "0.12.3"
  }
 },
 "nbformat": 4,
 "nbformat_minor": 2
}
